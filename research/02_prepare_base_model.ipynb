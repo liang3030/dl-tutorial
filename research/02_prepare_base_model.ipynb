{
 "cells": [
  {
   "cell_type": "code",
   "execution_count": 1,
   "metadata": {},
   "outputs": [],
   "source": [
    "import os"
   ]
  },
  {
   "cell_type": "code",
   "execution_count": 6,
   "metadata": {},
   "outputs": [
    {
     "data": {
      "text/plain": [
       "'/Users/liangzhang/Documents/ai/dl-tutorial'"
      ]
     },
     "execution_count": 6,
     "metadata": {},
     "output_type": "execute_result"
    }
   ],
   "source": [
    "%pwd"
   ]
  },
  {
   "cell_type": "code",
   "execution_count": 3,
   "metadata": {},
   "outputs": [],
   "source": [
    "os.chdir(\"../\")"
   ]
  },
  {
   "cell_type": "code",
   "execution_count": 4,
   "metadata": {},
   "outputs": [
    {
     "data": {
      "text/plain": [
       "'/Users/liangzhang/Documents/ai/dl-tutorial'"
      ]
     },
     "execution_count": 4,
     "metadata": {},
     "output_type": "execute_result"
    }
   ],
   "source": [
    "%pwd"
   ]
  },
  {
   "cell_type": "code",
   "execution_count": 7,
   "metadata": {},
   "outputs": [],
   "source": [
    "import os"
   ]
  },
  {
   "cell_type": "code",
   "execution_count": 8,
   "metadata": {},
   "outputs": [],
   "source": [
    "from dataclasses import dataclass\n",
    "from pathlib import Path\n",
    "\n",
    "@dataclass(frozen=True)\n",
    "class PrepareBaseModelConfig:\n",
    "\troot_dir: Path\n",
    "\tbase_model_path: Path\n",
    "\tupdated_base_model_path: Path\n",
    "\tparams_image_size: list\n",
    "\tparams_learning_rate: float\n",
    "\tparams_include_top: bool\n",
    "\tparams_weights: str\n",
    "\tparams_classes: int"
   ]
  },
  {
   "cell_type": "code",
   "execution_count": 9,
   "metadata": {},
   "outputs": [],
   "source": [
    "from template_dl_tutorial.constants import *\n",
    "from template_dl_tutorial.utils.common import read_yaml, create_directories"
   ]
  },
  {
   "cell_type": "code",
   "execution_count": 10,
   "metadata": {},
   "outputs": [],
   "source": [
    "class ConfigurationManager:\n",
    "\t\tdef __init__(self, config_path = CONFIG_FILE_PATH, params_path = PARAMS_FILE_PATH):\n",
    "\t\t\t\tself.config = read_yaml(config_path)\n",
    "\t\t\t\tself.params = read_yaml(params_path)\n",
    "\n",
    "\t\t\t\tcreate_directories([self.config.artifacts_root])\n",
    "\n",
    "\t\tdef get_prepare_base_model_config(self) -> PrepareBaseModelConfig:\n",
    "\t\t\t\tconfig = self.config.prepare_base_model\n",
    "\t\t\t\tcreate_directories([config.root_dir])\n",
    "\t\t\t\tprepare_base_model = PrepareBaseModelConfig(\n",
    "\t\t\t\t\t\troot_dir=Path(config.root_dir),\n",
    "\t\t\t\t\t\tbase_model_path=Path(config.base_model_path),\n",
    "\t\t\t\t\t\tupdated_base_model_path=Path(config.updated_base_model_path),\n",
    "\t\t\t\t\t\tparams_image_size=self.params.IMAGE_SIZE,\n",
    "\t\t\t\t\t\tparams_learning_rate=self.params.LEARNING_RATE,\n",
    "\t\t\t\t\t\tparams_include_top=self.params.INCLUDE_TOP,\n",
    "\t\t\t\t\t\tparams_weights=self.params.WEIGHTS,\n",
    "\t\t\t\t\t\tparams_classes=self.params.CLASSES,\n",
    "\t\t\t\t)\n",
    "\t\t\t\treturn prepare_base_model\n"
   ]
  },
  {
   "cell_type": "code",
   "execution_count": 11,
   "metadata": {},
   "outputs": [],
   "source": [
    "import os\n",
    "import urllib.request as request\n",
    "from zipfile import ZipFile\n",
    "import tensorflow as tf"
   ]
  },
  {
   "cell_type": "code",
   "execution_count": 19,
   "metadata": {},
   "outputs": [],
   "source": [
    "class PrepareBaseModel:\n",
    "\tdef __init__(self, config: PrepareBaseModelConfig):\n",
    "\t\tself.config = config\n",
    "\t\n",
    "\tdef get_base_model(self):\n",
    "\t\tself.model = tf.keras.applications.vgg16.VGG16(\n",
    "\t\t\tinput_shape=self.config.params_image_size,\n",
    "\t\t\tweights=self.config.params_weights,\n",
    "\t\t\tinclude_top=self.config.params_include_top,\n",
    "\t\t)\n",
    "\n",
    "\t\tself.save_model(path=self.config.base_model_path, model=self.model)\n",
    "\n",
    "\t\n",
    "\t@staticmethod\n",
    "\tdef _prepare_full_model(model, classes, freeze_all, freeze_till, learning_rate):\n",
    "\t\tif freeze_all:\n",
    "\t\t\tfor layer in model.layers:\n",
    "\t\t\t\tlayer.trainable = False\n",
    "\t\telif (freeze_till is not None) and (freeze_till > 0):\n",
    "\t\t\tfor layer in model.layers[:-freeze_till]:\n",
    "\t\t\t\tlayer.trainable = False\n",
    "\n",
    "\t\tflatten_in = tf.keras.layers.Flatten()(model.output)\n",
    "\t\tprediction = tf.keras.layers.Dense(\n",
    "\t\t\tunits=classes, \n",
    "\t\t\tactivation='softmax'\n",
    "\t\t)(flatten_in)\n",
    "\n",
    "\t\tfull_model = tf.keras.models.Model(\n",
    "\t\t\tinputs=model.input,\n",
    "\t\t\toutputs=prediction\n",
    "\t\t)\n",
    "\n",
    "\t\tfull_model.compile(\n",
    "\t\t\toptimizer=tf.keras.optimizers.SGD(learning_rate=learning_rate),\n",
    "\t\t\tloss= tf.keras.losses.CategoricalCrossentropy(),\n",
    "\t\t\tmetrics=['accuracy']\n",
    "\t\t)\n",
    "\n",
    "\t\tfull_model.summary()\n",
    "\n",
    "\t\treturn full_model\n",
    "\t\n",
    "\tdef update_base_model(self):\n",
    "\t\tself.full_model = self._prepare_full_model(\n",
    "\t\t\tmodel=self.model,\n",
    "\t\t\tclasses=self.config.params_classes,\n",
    "\t\t\tfreeze_all=True,\n",
    "\t\t\tfreeze_till=None,\n",
    "\t\t\tlearning_rate=self.config.params_learning_rate,\n",
    "\t\t)\n",
    "\t\tself.save_model(path=self.config.updated_base_model_path, model=self.full_model)\n",
    "\n",
    "\t@staticmethod\n",
    "\tdef save_model(path, model):\n",
    "\t\tmodel.save(path)"
   ]
  },
  {
   "cell_type": "code",
   "execution_count": 20,
   "metadata": {},
   "outputs": [
    {
     "name": "stdout",
     "output_type": "stream",
     "text": [
      "[2024-05-30 18:12:47,601]: INFO: common: yaml file: config/config.yaml loaded successfully\n",
      "[2024-05-30 18:12:47,604]: INFO: common: yaml file: params.yaml loaded successfully\n",
      "[2024-05-30 18:12:47,604]: INFO: common: Created directory at artifacts\n",
      "[2024-05-30 18:12:47,605]: INFO: common: Created directory at artifacts/prepare_base_model\n",
      "[2024-05-30 18:12:47,857]: WARNING: saving_utils: Compiled the loaded model, but the compiled metrics have yet to be built. `model.compile_metrics` will be empty until you train or evaluate the model.\n",
      "[2024-05-30 18:12:47,942]: WARNING: optimizer: At this time, the v2.11+ optimizer `tf.keras.optimizers.SGD` runs slowly on M1/M2 Macs, please use the legacy Keras optimizer instead, located at `tf.keras.optimizers.legacy.SGD`.\n",
      "[2024-05-30 18:12:47,949]: WARNING: __init__: There is a known slowdown when using v2.11+ Keras optimizers on M1/M2 Macs. Falling back to the legacy Keras optimizer, i.e., `tf.keras.optimizers.legacy.SGD`.\n",
      "Model: \"model\"\n",
      "_________________________________________________________________\n",
      " Layer (type)                Output Shape              Param #   \n",
      "=================================================================\n",
      " input_3 (InputLayer)        [(None, 224, 224, 3)]     0         \n",
      "                                                                 \n",
      " block1_conv1 (Conv2D)       (None, 224, 224, 64)      1792      \n",
      "                                                                 \n",
      " block1_conv2 (Conv2D)       (None, 224, 224, 64)      36928     \n",
      "                                                                 \n",
      " block1_pool (MaxPooling2D)  (None, 112, 112, 64)      0         \n",
      "                                                                 \n",
      " block2_conv1 (Conv2D)       (None, 112, 112, 128)     73856     \n",
      "                                                                 \n",
      " block2_conv2 (Conv2D)       (None, 112, 112, 128)     147584    \n",
      "                                                                 \n",
      " block2_pool (MaxPooling2D)  (None, 56, 56, 128)       0         \n",
      "                                                                 \n",
      " block3_conv1 (Conv2D)       (None, 56, 56, 256)       295168    \n",
      "                                                                 \n",
      " block3_conv2 (Conv2D)       (None, 56, 56, 256)       590080    \n",
      "                                                                 \n",
      " block3_conv3 (Conv2D)       (None, 56, 56, 256)       590080    \n",
      "                                                                 \n",
      " block3_pool (MaxPooling2D)  (None, 28, 28, 256)       0         \n",
      "                                                                 \n",
      " block4_conv1 (Conv2D)       (None, 28, 28, 512)       1180160   \n",
      "                                                                 \n",
      " block4_conv2 (Conv2D)       (None, 28, 28, 512)       2359808   \n",
      "                                                                 \n",
      " block4_conv3 (Conv2D)       (None, 28, 28, 512)       2359808   \n",
      "                                                                 \n",
      " block4_pool (MaxPooling2D)  (None, 14, 14, 512)       0         \n",
      "                                                                 \n",
      " block5_conv1 (Conv2D)       (None, 14, 14, 512)       2359808   \n",
      "                                                                 \n",
      " block5_conv2 (Conv2D)       (None, 14, 14, 512)       2359808   \n",
      "                                                                 \n",
      " block5_conv3 (Conv2D)       (None, 14, 14, 512)       2359808   \n",
      "                                                                 \n",
      " block5_pool (MaxPooling2D)  (None, 7, 7, 512)         0         \n",
      "                                                                 \n",
      " flatten_2 (Flatten)         (None, 25088)             0         \n",
      "                                                                 \n",
      " dense_2 (Dense)             (None, 2)                 50178     \n",
      "                                                                 \n",
      "=================================================================\n",
      "Total params: 14764866 (56.32 MB)\n",
      "Trainable params: 50178 (196.01 KB)\n",
      "Non-trainable params: 14714688 (56.13 MB)\n",
      "_________________________________________________________________\n"
     ]
    },
    {
     "name": "stderr",
     "output_type": "stream",
     "text": [
      "/opt/miniconda3/envs/dl/lib/python3.8/site-packages/keras/src/engine/training.py:3000: UserWarning: You are saving your model as an HDF5 file via `model.save()`. This file format is considered legacy. We recommend using instead the native Keras format, e.g. `model.save('my_model.keras')`.\n",
      "  saving_api.save_model(\n"
     ]
    }
   ],
   "source": [
    "try:\n",
    "\tconfig=ConfigurationManager()\n",
    "\tprepare_base_model_config=config.get_prepare_base_model_config()\n",
    "\tprepare_base_model = PrepareBaseModel(config=prepare_base_model_config)\n",
    "\tprepare_base_model.get_base_model()\n",
    "\tprepare_base_model.update_base_model()\n",
    "except Exception as e:\n",
    "\traise e"
   ]
  },
  {
   "cell_type": "markdown",
   "metadata": {},
   "source": []
  }
 ],
 "metadata": {
  "kernelspec": {
   "display_name": "dl",
   "language": "python",
   "name": "python3"
  },
  "language_info": {
   "codemirror_mode": {
    "name": "ipython",
    "version": 3
   },
   "file_extension": ".py",
   "mimetype": "text/x-python",
   "name": "python",
   "nbconvert_exporter": "python",
   "pygments_lexer": "ipython3",
   "version": "3.8.19"
  }
 },
 "nbformat": 4,
 "nbformat_minor": 2
}
