{
 "cells": [
  {
   "cell_type": "code",
   "execution_count": 1,
   "metadata": {},
   "outputs": [],
   "source": [
    "import os"
   ]
  },
  {
   "cell_type": "code",
   "execution_count": 2,
   "metadata": {},
   "outputs": [
    {
     "data": {
      "text/plain": [
       "'/Users/liangzhang/Documents/ai/dl-tutorial/research'"
      ]
     },
     "execution_count": 2,
     "metadata": {},
     "output_type": "execute_result"
    }
   ],
   "source": [
    "%pwd"
   ]
  },
  {
   "cell_type": "code",
   "execution_count": 3,
   "metadata": {},
   "outputs": [],
   "source": [
    "os.chdir(\"../\")"
   ]
  },
  {
   "cell_type": "code",
   "execution_count": 4,
   "metadata": {},
   "outputs": [
    {
     "data": {
      "text/plain": [
       "'/Users/liangzhang/Documents/ai/dl-tutorial'"
      ]
     },
     "execution_count": 4,
     "metadata": {},
     "output_type": "execute_result"
    }
   ],
   "source": [
    "%pwd"
   ]
  },
  {
   "cell_type": "code",
   "execution_count": 5,
   "metadata": {},
   "outputs": [],
   "source": [
    "os.environ[\"MLFLOW_TRACKING_URI\"]=\"https://dagshub.com/liang3030/dl-tutorial.mlflow\"\n",
    "os.environ[\"MLFLOW_TRACKING_USERNAME\"]=\"liang3030\"\n",
    "os.environ[\"MLFLOW_TRACKING_PASSWORD\"]=\"XXX\" # replace with your DAGsHub API key"
   ]
  },
  {
   "cell_type": "code",
   "execution_count": 6,
   "metadata": {},
   "outputs": [],
   "source": [
    "import tensorflow as tf"
   ]
  },
  {
   "cell_type": "code",
   "execution_count": 8,
   "metadata": {},
   "outputs": [],
   "source": [
    "model = tf.keras.models.load_model(\"artifacts/training/model.h5\")"
   ]
  },
  {
   "cell_type": "code",
   "execution_count": 9,
   "metadata": {},
   "outputs": [],
   "source": [
    "from dataclasses import dataclass\n",
    "from pathlib import Path\n",
    "\n",
    "@dataclass(frozen=True)\n",
    "class EvaluationConfig:\n",
    "\t\tpath_of_model: Path\n",
    "\t\ttraining_data: Path\n",
    "\t\tall_params: dict\n",
    "\t\tmlflow_uri: str\n",
    "\t\tparams_image_size: list\n",
    "\t\tparams_batch_size: int"
   ]
  },
  {
   "cell_type": "code",
   "execution_count": 10,
   "metadata": {},
   "outputs": [],
   "source": [
    "from template_dl_tutorial.constants import *\n",
    "from template_dl_tutorial.utils.common import read_yaml, create_directories, save_json"
   ]
  },
  {
   "cell_type": "code",
   "execution_count": 11,
   "metadata": {},
   "outputs": [],
   "source": [
    "class ConfigurationManager:\n",
    "\tdef __init__(\n",
    "\t\tself,\n",
    "\t\tconfig_filePath = CONFIG_FILE_PATH,\n",
    "\t\tparams_filePath = PARAMS_FILE_PATH\n",
    "\t):\n",
    "\t\tself.config = read_yaml(config_filePath)\n",
    "\t\tself.params = read_yaml(params_filePath)\n",
    "\n",
    "\t\tcreate_directories([self.config.artifacts_root])\n",
    "\n",
    "\n",
    "\tdef get_evaluation_config(self) -> EvaluationConfig:\n",
    "\t\teval_config = EvaluationConfig(\n",
    "\t\t\tpath_of_model = \"artifacts/training/model.h5\",\n",
    "\t\t\ttraining_data=\"artifacts/data_ingestion/kidney-ct-scan-image\",\n",
    "\t\t\tmlflow_uri='https://dagshub.com/liang3030/dl-tutorial.mlflow',\n",
    "\t\t\tall_params = self.params,\n",
    "\t\t\tparams_image_size = self.params.IMAGE_SIZE,\n",
    "\t\t\tparams_batch_size = self.params.BATCH_SIZE\n",
    "\t\t)\n",
    "\n",
    "\t\treturn eval_config"
   ]
  },
  {
   "cell_type": "code",
   "execution_count": 12,
   "metadata": {},
   "outputs": [],
   "source": [
    "import tensorflow as tf\n",
    "from pathlib import Path\n",
    "import mlflow\n",
    "import mlflow.keras\n",
    "from urllib.parse import urlparse"
   ]
  },
  {
   "cell_type": "code",
   "execution_count": 14,
   "metadata": {},
   "outputs": [],
   "source": [
    "class Evaluation:\n",
    "\tdef __init__(self, config: EvaluationConfig):\n",
    "\t\tself.config = config\n",
    "\tdef _valid_generator(self):\n",
    "\t\tdatagenerator_kwargs = dict(\n",
    "\t\t\trescale=1./255,\n",
    "\t\t\tvalidation_split=0.30,\n",
    "\t\t)\n",
    "\n",
    "\t\tdataflow_kwargs = dict(\n",
    "\t\t\ttarget_size=self.config.params_image_size[:-1],\n",
    "\t\t\tbatch_size=self.config.params_batch_size,\n",
    "\t\t\tinterpolation=\"bilinear\",\n",
    "\t\t)\n",
    "\n",
    "\t\tvalid_datagenerator = tf.keras.preprocessing.image.ImageDataGenerator(**datagenerator_kwargs)\n",
    "\n",
    "\t\tself.valid_generator = valid_datagenerator.flow_from_directory(\n",
    "\t\t\tdirectory=self.config.training_data,\n",
    "\t\t\tsubset=\"validation\",\n",
    "\t\t\tshuffle=False,\n",
    "\t\t\t**dataflow_kwargs,\n",
    "\t\t)\n",
    "\n",
    "\t@staticmethod\n",
    "\tdef load_model(path: Path) -> tf.keras.models.Model:\n",
    "\t\treturn tf.keras.models.load_model(path)\n",
    "\t\n",
    "\tdef evaluation(self):\n",
    "\t\tself.model = self.load_model(self.config.path_of_model)\n",
    "\t\tself._valid_generator()\n",
    "\t\tself.score = self.model.evaluate(self.valid_generator)\n",
    "\t\tself.save_score()\n",
    "\n",
    "\tdef save_score(self):\n",
    "\t\tscores = {\"loss\": self.score[0], \"accuracy\": self.score[1]}\n",
    "\t\tsave_json(path=Path(\"scores.json\"), data=scores)\n",
    "\n",
    "\tdef log_into_mlflow(self):\n",
    "\t\tmlflow.set_registry_uri(self.config.mlflow_uri)\n",
    "\t\ttracking_url_type_store = urlparse(mlflow.get_registry_uri()).scheme\n",
    "\n",
    "\t\twith mlflow.start_run():\n",
    "\t\t\tmlflow.log_params(self.config.all_params)\n",
    "\t\t\tmlflow.log_metrics({\"loss\": self.score[0], \"accuracy\": self.score[1]})\n",
    "\n",
    "\t\t\t# TODO: bug in log_model\n",
    "\t\t\t# if tracking_url_type_store != \"file\":\n",
    "\t\t\t# \tmlflow.keras.log_model(self.model, \"model\")\n",
    "\t\t\t# else:\n",
    "\t\t\t# \tmlflow.keras.log_model(self.model, \"model\")\n"
   ]
  },
  {
   "cell_type": "code",
   "execution_count": 15,
   "metadata": {},
   "outputs": [
    {
     "name": "stdout",
     "output_type": "stream",
     "text": [
      "[2024-06-01 17:32:21,682]: INFO: common: yaml file: config/config.yaml loaded successfully\n",
      "[2024-06-01 17:32:21,685]: INFO: common: yaml file: params.yaml loaded successfully\n",
      "[2024-06-01 17:32:21,686]: INFO: common: Created directory at artifacts\n",
      "Found 139 images belonging to 2 classes.\n",
      "9/9 [==============================] - 13s 1s/step - loss: 19.3878 - accuracy: 0.4820\n",
      "[2024-06-01 17:32:34,803]: INFO: common: Saved json file at scores.json\n"
     ]
    }
   ],
   "source": [
    "try:\n",
    "\tconfig = ConfigurationManager()\n",
    "\teval_config = config.get_evaluation_config()\n",
    "\tevaluation = Evaluation(eval_config)\n",
    "\tevaluation.evaluation()\n",
    "\tevaluation.log_into_mlflow()\n",
    "except Exception as e:\n",
    "\traise e"
   ]
  }
 ],
 "metadata": {
  "kernelspec": {
   "display_name": "dl",
   "language": "python",
   "name": "python3"
  },
  "language_info": {
   "codemirror_mode": {
    "name": "ipython",
    "version": 3
   },
   "file_extension": ".py",
   "mimetype": "text/x-python",
   "name": "python",
   "nbconvert_exporter": "python",
   "pygments_lexer": "ipython3",
   "version": "3.8.19"
  }
 },
 "nbformat": 4,
 "nbformat_minor": 2
}
