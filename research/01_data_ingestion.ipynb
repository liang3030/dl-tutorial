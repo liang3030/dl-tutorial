{
 "cells": [
  {
   "cell_type": "code",
   "execution_count": 1,
   "metadata": {},
   "outputs": [],
   "source": [
    "import os"
   ]
  },
  {
   "cell_type": "code",
   "execution_count": 2,
   "metadata": {},
   "outputs": [
    {
     "data": {
      "text/plain": [
       "'/Users/liangzhang/Documents/ai/dl-tutorial/research'"
      ]
     },
     "execution_count": 2,
     "metadata": {},
     "output_type": "execute_result"
    }
   ],
   "source": [
    "%pwd"
   ]
  },
  {
   "cell_type": "code",
   "execution_count": 3,
   "metadata": {},
   "outputs": [],
   "source": [
    "os.chdir(\"../\")"
   ]
  },
  {
   "cell_type": "code",
   "execution_count": 4,
   "metadata": {},
   "outputs": [
    {
     "data": {
      "text/plain": [
       "'/Users/liangzhang/Documents/ai/dl-tutorial'"
      ]
     },
     "execution_count": 4,
     "metadata": {},
     "output_type": "execute_result"
    }
   ],
   "source": [
    "%pwd"
   ]
  },
  {
   "cell_type": "code",
   "execution_count": 5,
   "metadata": {},
   "outputs": [],
   "source": [
    "from dataclasses import dataclass\n",
    "from pathlib import Path\n",
    "\n",
    "@dataclass(frozen=True)\n",
    "class DataIngestionConfig:\n",
    "\troot_dir: Path\n",
    "\tsource_URL: str\n",
    "\tlocal_data_file: Path\n",
    "\tunzip_dir: Path"
   ]
  },
  {
   "cell_type": "code",
   "execution_count": 6,
   "metadata": {},
   "outputs": [],
   "source": [
    "from template_dl_tutorial.constants import *\n",
    "from template_dl_tutorial.utils.common import create_directories, read_yaml"
   ]
  },
  {
   "cell_type": "code",
   "execution_count": 7,
   "metadata": {},
   "outputs": [],
   "source": [
    "class ConfigurationManager:\n",
    "\tdef __init__(self, config_filepath = CONFIG_FILE_PATH, params_filepath = PARAMS_FILE_PATH):\n",
    "\t\tself.config = read_yaml(config_filepath)\n",
    "\t\tself.params = read_yaml(params_filepath)\n",
    "\n",
    "\t\tcreate_directories([self.config.artifacts_root])\n",
    "\n",
    "\tdef get_data_ingestion_config(self) -> DataIngestionConfig:\n",
    "\t\tconfig = self.config.data_ingestion\n",
    "\t\tcreate_directories([config.root_dir])\n",
    "\t\treturn DataIngestionConfig(\n",
    "\t\t\troot_dir = config.root_dir,\n",
    "\t\t\tsource_URL = config.source_URL,\n",
    "\t\t\tlocal_data_file = config.local_data_file,\n",
    "\t\t\tunzip_dir = config.unzip_dir\n",
    "\t\t)"
   ]
  },
  {
   "cell_type": "code",
   "execution_count": 8,
   "metadata": {},
   "outputs": [],
   "source": [
    "import os\n",
    "import zipfile\n",
    "import gdown\n",
    "from template_dl_tutorial import logger\n",
    "from template_dl_tutorial.utils.common import get_size"
   ]
  },
  {
   "cell_type": "code",
   "execution_count": 9,
   "metadata": {},
   "outputs": [],
   "source": [
    "class DataIngestion:\n",
    "\tdef __init__(self, config: DataIngestionConfig) -> None:\n",
    "\t\tself.config = config\n",
    "\tdef download_file(self) -> str:\n",
    "\t\t'''\n",
    "\t\tFetch data from the url\n",
    "\t\t'''\n",
    "\n",
    "\t\ttry:\n",
    "\t\t\tdataset_url=self.config.source_URL\n",
    "\t\t\tzip_download_dir=self.config.local_data_file\n",
    "\t\t\tos.makedirs(\"artifacts/data_ingestion\", exist_ok=True)\n",
    "\t\t\tlogger.info(f\"Downloading data from {dataset_url} to {zip_download_dir}\")\n",
    "\t\t\tfile_id = dataset_url.split(\"/\")[-2]\n",
    "\t\t\tprefix = \"https://drive.google.com/uc?/export=download&id=\"\n",
    "\t\t\tgdown.download(prefix+file_id, zip_download_dir)\n",
    "\t\t\tlogger.info(f\"Data downloaded at {zip_download_dir}\")\n",
    "\n",
    "\t\texcept Exception as e:\n",
    "\t\t\traise e\n",
    "\t\t\n",
    "\tdef extract_zip_file(self):\n",
    "\t\t\"\"\"\n",
    "\t\tzip_file_path: str\n",
    "\t\tExtracts the zip file into the data director\n",
    "\t\tFunction returns None\n",
    "\t\t\"\"\"\n",
    "\t\tunzip_path = self.config.unzip_dir\n",
    "\t\tos.makedirs(unzip_path, exist_ok=True)\n",
    "\t\twith zipfile.ZipFile(self.config.local_data_file, 'r') as zip_ref:\n",
    "\t\t\tzip_ref.extractall(unzip_path)\n"
   ]
  },
  {
   "cell_type": "code",
   "execution_count": 11,
   "metadata": {},
   "outputs": [
    {
     "name": "stdout",
     "output_type": "stream",
     "text": [
      "[2024-05-29 16:31:38,824]: INFO: common: yaml file: config/config.yaml loaded successfully\n",
      "[2024-05-29 16:31:38,825]: INFO: common: yaml file: params.yaml loaded successfully\n",
      "[2024-05-29 16:31:38,826]: INFO: common: Created directory at artifacts\n",
      "[2024-05-29 16:31:38,826]: INFO: common: Created directory at artifacts/data_ingestion\n",
      "[2024-05-29 16:31:38,827]: INFO: 4277454294: Downloading data from https://drive.google.com/file/d/1VTpzsz_XDA55nnHc8JPvSxamBi5Np9c2/view?usp=sharing to artifacts/data_ingestion/data.zip\n"
     ]
    },
    {
     "name": "stderr",
     "output_type": "stream",
     "text": [
      "Downloading...\n",
      "From (original): https://drive.google.com/uc?/export=download&id=1VTpzsz_XDA55nnHc8JPvSxamBi5Np9c2\n",
      "From (redirected): https://drive.google.com/uc?%2Fexport=download&id=1VTpzsz_XDA55nnHc8JPvSxamBi5Np9c2&confirm=t&uuid=fc9ebb75-fa13-442f-b5c2-c7277a117313\n",
      "To: /Users/liangzhang/Documents/ai/dl-tutorial/artifacts/data_ingestion/data.zip\n",
      "100%|██████████| 57.7M/57.7M [00:08<00:00, 6.83MB/s]"
     ]
    },
    {
     "name": "stdout",
     "output_type": "stream",
     "text": [
      "[2024-05-29 16:31:48,968]: INFO: 4277454294: Data downloaded at artifacts/data_ingestion/data.zip\n"
     ]
    },
    {
     "name": "stderr",
     "output_type": "stream",
     "text": [
      "\n"
     ]
    }
   ],
   "source": [
    "try:\n",
    "\tconfig = ConfigurationManager()\n",
    "\tdata_ingestion_config = config.get_data_ingestion_config()\n",
    "\tdata_ingestion = DataIngestion(data_ingestion_config)\n",
    "\tdata_ingestion.download_file()\n",
    "\tdata_ingestion.extract_zip_file()\n",
    "except Exception as e:\n",
    "\traise e"
   ]
  }
 ],
 "metadata": {
  "kernelspec": {
   "display_name": "dl",
   "language": "python",
   "name": "python3"
  },
  "language_info": {
   "codemirror_mode": {
    "name": "ipython",
    "version": 3
   },
   "file_extension": ".py",
   "mimetype": "text/x-python",
   "name": "python",
   "nbconvert_exporter": "python",
   "pygments_lexer": "ipython3",
   "version": "3.8.19"
  }
 },
 "nbformat": 4,
 "nbformat_minor": 2
}
