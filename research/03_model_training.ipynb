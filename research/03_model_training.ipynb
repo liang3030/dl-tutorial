{
 "cells": [
  {
   "cell_type": "code",
   "execution_count": 5,
   "metadata": {},
   "outputs": [],
   "source": [
    "import os"
   ]
  },
  {
   "cell_type": "code",
   "execution_count": 6,
   "metadata": {},
   "outputs": [
    {
     "data": {
      "text/plain": [
       "'/Users/liangzhang/Documents/ai/dl-tutorial'"
      ]
     },
     "execution_count": 6,
     "metadata": {},
     "output_type": "execute_result"
    }
   ],
   "source": [
    "%pwd"
   ]
  },
  {
   "cell_type": "code",
   "execution_count": 3,
   "metadata": {},
   "outputs": [],
   "source": [
    "os.chdir(\"../\")"
   ]
  },
  {
   "cell_type": "code",
   "execution_count": 4,
   "metadata": {},
   "outputs": [
    {
     "data": {
      "text/plain": [
       "'/Users/liangzhang/Documents/ai/dl-tutorial'"
      ]
     },
     "execution_count": 4,
     "metadata": {},
     "output_type": "execute_result"
    }
   ],
   "source": [
    "%pwd"
   ]
  },
  {
   "cell_type": "code",
   "execution_count": 7,
   "metadata": {},
   "outputs": [],
   "source": [
    "from dataclasses import dataclass\n",
    "from pathlib import Path\n",
    "\n",
    "@dataclass(frozen=True)\n",
    "class TrainingConfig:\n",
    "\t\troot_dir: Path\n",
    "\t\ttrained_model_path: Path\n",
    "\t\tupdated_base_model_path: Path\n",
    "\t\ttraining_data: Path\n",
    "\t\tparams_epochs: int\n",
    "\t\tparams_batch_size: int\n",
    "\t\tparams_is_augmentation: bool\n",
    "\t\tparams_image_size: list"
   ]
  },
  {
   "cell_type": "code",
   "execution_count": 8,
   "metadata": {},
   "outputs": [],
   "source": [
    "from template_dl_tutorial.constants import *\n",
    "from template_dl_tutorial.utils.common import read_yaml, create_directories\n",
    "import tensorflow as tf"
   ]
  },
  {
   "cell_type": "code",
   "execution_count": 9,
   "metadata": {},
   "outputs": [],
   "source": [
    "class ConfigurationManager:\n",
    "\tdef __init__(\n",
    "\t\tself,\n",
    "\t\tconfig_filePath = CONFIG_FILE_PATH,\n",
    "\t\tparams_filePath = PARAMS_FILE_PATH\n",
    "\t):\n",
    "\t\tself.config = read_yaml(config_filePath)\n",
    "\t\tself.params = read_yaml(params_filePath)\n",
    "\n",
    "\t\tcreate_directories([self.config.artifacts_root])\n",
    "\n",
    "\tdef get_training_config(self):\n",
    "\t\ttraining = self.config.training\n",
    "\t\tprepare_base_model = self.config.prepare_base_model\n",
    "\t\tparams = self.params\n",
    "\t\ttraining_data = os.path.join(self.config.data_ingestion.unzip_dir, 'kidney-ct-scan-image')\n",
    "\t\tcreate_directories([Path(training.root_dir)])\n",
    "\n",
    "\t\ttraining_config = TrainingConfig(\n",
    "\t\t\troot_dir=Path(training.root_dir),\n",
    "\t\t\ttrained_model_path=Path(training.trained_model_path),\n",
    "\t\t\tupdated_base_model_path=Path(prepare_base_model.updated_base_model_path),\n",
    "\t\t\ttraining_data=Path(training_data),\n",
    "\t\t\tparams_epochs=params.EPOCHS,\n",
    "\t\t\tparams_batch_size=params.BATCH_SIZE,\n",
    "\t\t\tparams_is_augmentation=params.AUGMENTATION,\n",
    "\t\t\tparams_image_size=params.IMAGE_SIZE\n",
    "\t\t)\n",
    "\n",
    "\t\treturn training_config"
   ]
  },
  {
   "cell_type": "code",
   "execution_count": 10,
   "metadata": {},
   "outputs": [],
   "source": [
    "import os\n",
    "import urllib.request as request\n",
    "from zipfile import ZipFile\n",
    "import tensorflow as tf\n",
    "import time"
   ]
  },
  {
   "cell_type": "code",
   "execution_count": 15,
   "metadata": {},
   "outputs": [],
   "source": [
    "class Training:\n",
    "\tdef __init__(self, config: TrainingConfig):\n",
    "\t\tself.config = config\n",
    "\n",
    "\tdef get_base_model(self):\n",
    "\t\tself.model = tf.keras.models.load_model(self.config.updated_base_model_path)\n",
    "\n",
    "\tdef train_valid_generator(self):\n",
    "\t\tdatagenerator_kwags = dict(\n",
    "\t\t\trescale=1./255,\n",
    "\t\t\tvalidation_split=0.2\n",
    "\t\t)\n",
    "\n",
    "\t\tdataflow_kwargs = dict(\n",
    "\t\t\ttarget_size=self.config.params_image_size[:-1],\n",
    "\t\t\tbatch_size=self.config.params_batch_size,\n",
    "\t\t\tinterpolation='bilinear'\n",
    "\t\t)\n",
    "\n",
    "\t\tvalid_datagenerator = tf.keras.preprocessing.image.ImageDataGenerator(**datagenerator_kwags)\n",
    "\n",
    "\t\tself.valid_generator = valid_datagenerator.flow_from_directory(\n",
    "\t\t\tdirectory=self.config.training_data,\n",
    "\t\t\tsubset='validation',\n",
    "\t\t\tshuffle=False,\n",
    "\t\t\t**dataflow_kwargs\n",
    "\t\t)\n",
    "\n",
    "\t\tif self.config.params_is_augmentation:\n",
    "\t\t\ttrain_datagenerator = tf.keras.preprocessing.image.ImageDataGenerator(\n",
    "\t\t\t\trotation_range=40,\n",
    "\t\t\t\twidth_shift_range=0.2,\n",
    "\t\t\t\theight_shift_range=0.2,\n",
    "\t\t\t\tshear_range=0.2,\n",
    "\t\t\t\tzoom_range=0.2,\n",
    "\t\t\t\thorizontal_flip=True,\n",
    "\t\t\t\tfill_mode='nearest',\n",
    "\t\t\t\t**datagenerator_kwags\n",
    "\t\t\t)\n",
    "\t\telse:\n",
    "\t\t\ttrain_datagenerator = valid_datagenerator\n",
    "\n",
    "\t\tself.train_generator = train_datagenerator.flow_from_directory(\n",
    "\t\t\tdirectory=self.config.training_data,\n",
    "\t\t\tsubset='training',\n",
    "\t\t\tshuffle=True,\n",
    "\t\t\t**dataflow_kwargs\n",
    "\t\t)\n",
    "\n",
    "\t@staticmethod\n",
    "\tdef save_model(path: Path, model: tf.keras.models.Model):\n",
    "\t\tmodel.save(path)\n",
    "\n",
    "\tdef train(self):\n",
    "\t\tself.steps_per_epoch = self.train_generator.samples // self.train_generator.batch_size\n",
    "\t\tself.validation_steps = self.valid_generator.samples // self.valid_generator.batch_size\n",
    "\n",
    "\t\tself.model.fit(\n",
    "\t\t\tself.train_generator,\n",
    "\t\t\tepochs=self.config.params_epochs,\n",
    "\t\t\tsteps_per_epoch=self.steps_per_epoch,\n",
    "\t\t\tvalidation_steps=self.validation_steps,\n",
    "\t\t\tvalidation_data=self.valid_generator,\n",
    "\t\t)\n",
    "\t\tself.save_model(\n",
    "\t\t\tpath=self.config.trained_model_path,\n",
    "\t\t\tmodel=self.model\n",
    "\t\t)\n"
   ]
  },
  {
   "cell_type": "code",
   "execution_count": 16,
   "metadata": {},
   "outputs": [
    {
     "name": "stdout",
     "output_type": "stream",
     "text": [
      "[2024-05-31 18:40:28,172]: INFO: common: yaml file: config/config.yaml loaded successfully\n",
      "[2024-05-31 18:40:28,175]: INFO: common: yaml file: params.yaml loaded successfully\n",
      "[2024-05-31 18:40:28,175]: INFO: common: Created directory at artifacts\n",
      "[2024-05-31 18:40:28,176]: INFO: common: Created directory at artifacts/training\n",
      "Found 93 images belonging to 2 classes.\n",
      "Found 372 images belonging to 2 classes.\n",
      "23/23 [==============================] - 37s 2s/step - loss: 12.6606 - accuracy: 0.5421 - val_loss: 2.8343 - val_accuracy: 0.4375\n"
     ]
    },
    {
     "name": "stderr",
     "output_type": "stream",
     "text": [
      "/opt/miniconda3/envs/dl/lib/python3.8/site-packages/keras/src/engine/training.py:3000: UserWarning: You are saving your model as an HDF5 file via `model.save()`. This file format is considered legacy. We recommend using instead the native Keras format, e.g. `model.save('my_model.keras')`.\n",
      "  saving_api.save_model(\n"
     ]
    }
   ],
   "source": [
    "try:\n",
    "\tconfig = ConfigurationManager()\n",
    "\ttraining_config = config.get_training_config()\n",
    "\ttraining = Training(config = training_config)\n",
    "\ttraining.get_base_model()\n",
    "\ttraining.train_valid_generator()\n",
    "\ttraining.train()\n",
    "except Exception as e:\n",
    "\traise e"
   ]
  }
 ],
 "metadata": {
  "kernelspec": {
   "display_name": "dl",
   "language": "python",
   "name": "python3"
  },
  "language_info": {
   "codemirror_mode": {
    "name": "ipython",
    "version": 3
   },
   "file_extension": ".py",
   "mimetype": "text/x-python",
   "name": "python",
   "nbconvert_exporter": "python",
   "pygments_lexer": "ipython3",
   "version": "3.8.19"
  }
 },
 "nbformat": 4,
 "nbformat_minor": 2
}
